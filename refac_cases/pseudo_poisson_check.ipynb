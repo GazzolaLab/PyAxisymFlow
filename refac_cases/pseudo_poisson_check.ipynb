{
 "cells": [
  {
   "cell_type": "code",
   "execution_count": 1,
   "metadata": {},
   "outputs": [],
   "source": [
    "import scipy.sparse as spp\n",
    "import numpy as np"
   ]
  },
  {
   "cell_type": "code",
   "execution_count": 2,
   "metadata": {},
   "outputs": [
    {
     "name": "stderr",
     "output_type": "stream",
     "text": [
      "/usr/local/lib/python3.9/site-packages/scipy/sparse/_index.py:82: SparseEfficiencyWarning: Changing the sparsity structure of a csc_matrix is expensive. lil_matrix is more efficient.\n",
      "  self._set_intXint(row, col, x.flat[0])\n"
     ]
    }
   ],
   "source": [
    "grid_size_z = 512\n",
    "domain_AR = 0.5\n",
    "dx = 1.0 / grid_size_z\n",
    "grid_size_r = int(domain_AR * grid_size_z)\n",
    "z = np.linspace(0.5 * dx, 1 - 0.5 * dx, grid_size_z)\n",
    "r = np.linspace(0.5 * dx, domain_AR - 0.5 * dx, grid_size_r)\n",
    "Z, R = np.meshgrid(z, r)\n",
    "R_diag = spp.diags((R ** -1).reshape(-1, ), format='csc')\n",
    "A_zz = spp.diags([1, -2, 1], [-1, 0, 1], \n",
    "                shape=(grid_size_z, grid_size_z), format='csc') / (dx ** 2)\n",
    "A_rr = spp.diags([1, -2, 1], [-1, 0, 1], \n",
    "                shape=(grid_size_r, grid_size_r), format='csc') / (dx ** 2)\n",
    "\n",
    "A_zz[0, 1] *= 2.0\n",
    "A_zz[-1, -2] *= 2.0\n",
    "A_rr[-1, -2] *= 2.0\n",
    "\n",
    "# A_zz[0, 0] = 2.0 / (dx ** 2)\n",
    "# A_zz[0, 1] = -5.0 / (dx ** 2)\n",
    "# A_zz[0, 2] = 4.0 / (dx ** 2)\n",
    "# A_zz[0, 3] = -1.0 / (dx ** 2)\n",
    "# A_zz[-1, 0] = 2.0 / (dx ** 2)\n",
    "# A_zz[-1, 1] = -5.0 / (dx ** 2)\n",
    "# A_zz[-1, 2] = 4.0 / (dx ** 2)\n",
    "# A_zz[1, 3] = -1.0 / (dx ** 2)\n",
    "# A_rr[-1, -1] = 1.0 / (dx ** 2)\n",
    "# A_rr[-1, -2] = -2.0 / (dx ** 2)\n",
    "# A_rr[-1, -3] = 1.0 / (dx ** 2)\n",
    "\n",
    "A_r = spp.diags([-1, 1], [-1, 1], \n",
    "                shape=(grid_size_r, grid_size_r), format='csc') / (2 * dx)\n",
    "A_r[-1, -2] = 0.0\n",
    "\n",
    "# A_r[-1, -1] = 1.0 / dx\n",
    "# A_r[-1, -2] = -1.0 / dx\n",
    "\n",
    "Idz = spp.identity(grid_size_z)\n",
    "Idr = spp.identity(grid_size_r)\n",
    "Id1 = spp.diags(np.repeat(1.0, grid_size_r), format='csc')\n",
    "Id1[0, 0] = 0.0\n",
    "mask_Id = spp.kron(Id1,Idz)\n",
    "Id2 = spp.diags(np.repeat(0.0, grid_size_r), format='csc')\n",
    "Id2[0, 0] = 1.0\n",
    "unmask_Id = spp.kron(Id2, Idz)\n",
    "Id3 = spp.diags(np.repeat(1.0, grid_size_r), format=\"csc\")\n",
    "Id3[-1, -1] = 0.0\n",
    "\n",
    "# A_r[0, 1] = 0.0\n",
    "# A_rr[0, 1] *= 2.0\n",
    "\n",
    "# Idz = spp.identity(grid_size_z)\n",
    "# Idr = spp.identity(grid_size_r)\n",
    "# Id1 = spp.diags(np.repeat(1.0, grid_size_r), format='csc')\n",
    "# Id1[-1, -1] = 0.0\n",
    "# mask_Id = spp.kron(Id1,Idz)\n",
    "# Id2 = spp.diags(np.repeat(0.0, grid_size_r), format='csc')\n",
    "# Id2[-1, -1] = 1.0\n",
    "# unmask_Id = spp.kron(Id2, Idz)\n",
    "# Id3 = spp.diags(np.repeat(1.0, grid_size_r), format=\"csc\")\n",
    "# Id3[0, -0] = 0.0"
   ]
  },
  {
   "cell_type": "code",
   "execution_count": 3,
   "metadata": {},
   "outputs": [
    {
     "name": "stdout",
     "output_type": "stream",
     "text": [
      "[[ 262144.       0.       0. ...       0.       0.       0.]\n",
      " [      0.  262144.       0. ...       0.       0.       0.]\n",
      " [      0.       0.  262144. ...       0.       0.       0.]\n",
      " ...\n",
      " [      0.       0.       0. ... -524288.       0.       0.]\n",
      " [      0.       0.       0. ...       0. -524288.       0.]\n",
      " [      0.       0.       0. ...       0.       0. -524288.]]\n"
     ]
    }
   ],
   "source": [
    "A_final = mask_Id * (spp.kron(A_rr, Idz) + spp.kron(Id3, A_zz) - R_diag * spp.kron(A_r, Idz)) + unmask_Id / (dx ** 2)\n",
    "#A_final = mask_Id * (spp.kron(A_rr, Idz) + spp.kron(Id3, A_zz) + R_diag * spp.kron(A_r, Idz)) + unmask_Id / (dx ** 2)\n",
    "print(A_final.toarray())\n",
    "import numpy.linalg as la\n",
    "# print(la.cond(A_final.toarray()))"
   ]
  },
  {
   "cell_type": "code",
   "execution_count": 4,
   "metadata": {},
   "outputs": [
    {
     "data": {
      "image/png": "[encoded data removed]",
      "text/plain": [
       "<Figure size 432x288 with 2 Axes>"
      ]
     },
     "metadata": {
      "needs_background": "light"
     },
     "output_type": "display_data"
    }
   ],
   "source": [
    "import scipy.sparse.linalg as sppla\n",
    "import matplotlib.pyplot as plt\n",
    "#vort = np.sin(np.pi * R)\n",
    "vort = np.exp(-((R - 0.3) ** 2 + (Z - 0.5) ** 2) / 0.01)\n",
    "plt.contourf(Z, R, -R * vort)\n",
    "plt.colorbar()\n",
    "b = (-R * vort).reshape(-1, )"
   ]
  },
  {
   "cell_type": "code",
   "execution_count": 5,
   "metadata": {},
   "outputs": [
    {
     "name": "stderr",
     "output_type": "stream",
     "text": [
      "/usr/local/lib/python3.9/site-packages/scipy/sparse/linalg/dsolve/linsolve.py:318: SparseEfficiencyWarning: splu requires CSC matrix format\n",
      "  warn('splu requires CSC matrix format', SparseEfficiencyWarning)\n"
     ]
    },
    {
     "name": "stdout",
     "output_type": "stream",
     "text": [
      "0.034577131271362305\n"
     ]
    },
    {
     "data": {
      "text/plain": [
       "<matplotlib.colorbar.Colorbar at 0x130c7f8b0>"
      ]
     },
     "execution_count": 5,
     "metadata": {},
     "output_type": "execute_result"
    },
    {
     "data": {
      "image/png": "[encoded data removed]",
      "text/plain": [
       "<Figure size 432x288 with 2 Axes>"
      ]
     },
     "metadata": {
      "needs_background": "light"
     },
     "output_type": "display_data"
    }
   ],
   "source": [
    "#A_inv = sppla.inv(A_final)\n",
    "#psi = A_inv * b\n",
    "# M2 = sppla.spilu(A_final)\n",
    "# M = sppla.LinearOperator((grid_size_z * grid_size_r, grid_size_z * grid_size_r), M2.solve)\n",
    "\n",
    "LU = sppla.splu(A_final)\n",
    "\n",
    "psi = 0 * b\n",
    "#psi[...], code = sppla.gmres(A_final, b, x0=psi, M=M)\n",
    "import time\n",
    "s = time.time()\n",
    "psi[...] = LU.solve(b)\n",
    "e = time.time()\n",
    "print(e - s)\n",
    "# A_inv = sppla.inv(A_final)\n",
    "# psi = A_inv * b\n",
    "#plt.contour(Z, R, psi.reshape(grid_size_r, -1), levels=50)\n",
    "plt.contourf(Z, R, psi.reshape(grid_size_r, -1), levels=25)\n",
    "plt.colorbar()\n",
    "#print(code)"
   ]
  },
  {
   "cell_type": "code",
   "execution_count": 68,
   "metadata": {},
   "outputs": [],
   "source": [
    "import numpy as np\n",
    "from scipy.fftpack import fft2, ifft2\n",
    "import numpy.linalg as la\n",
    "grid_size_z = 512\n",
    "domain_AR = 0.5\n",
    "dx = 1.0 / grid_size_z\n",
    "grid_size_r = int(domain_AR * grid_size_z)\n",
    "CFL = 0.1\n",
    "LCFL = 0.1\n",
    "eps = np.finfo(float).eps\n",
    "\n",
    "\n",
    "def kill_boundary_vorticity_sine_x(vorticity, X, width):\n",
    "    \"\"\"\n",
    "    kills vorticity on the boundaries in a sine wave fashion\n",
    "    in the given width in X direction\n",
    "    \"\"\"\n",
    "    vorticity[:, :width] = np.sin(\n",
    "        np.pi * (X[:, :width] - 0.5 * dx) / 2 / (width - 1) / dx\n",
    "    ) * vorticity[:, (width - 1)].reshape(-1, 1)\n",
    "    vorticity[:, -width:] = np.sin(\n",
    "        np.pi * (1 - X[:, -width:] - 0.5 * dx) / 2 / (width - 1) / dx\n",
    "    ) * vorticity[:, -width].reshape(-1, 1)\n",
    "\n",
    "\n",
    "def kill_boundary_vorticity_sine_y(vorticity, Y, width):\n",
    "    \"\"\"\n",
    "    kills vorticity on the boundaries in a sine wave fashion\n",
    "    in the given width in Y direction\n",
    "    \"\"\"\n",
    "    vorticity[:width, :] = (\n",
    "        np.sin(np.pi * (Y[:width, :] - 0.5 * dx) / 2 / (width - 1) / dx)\n",
    "        * vorticity[(width - 1), :]\n",
    "    )\n",
    "    vorticity[-width:, :] = (\n",
    "        np.sin(np.pi * (1 - Y[-width:, :] - 0.5 * dx) / 2 / (width - 1) / dx)\n",
    "        * vorticity[-width, :]\n",
    "    )\n",
    "\n",
    "\n",
    "grid_size = grid_size_z\n",
    "x = np.linspace(0, 1 - dx, grid_size)\n",
    "X, Y = np.meshgrid(x, x)\n",
    "x_double = np.linspace(0, 2 - dx, 2 * grid_size)\n",
    "X_double, Y_double = np.meshgrid(x_double, x_double)\n",
    "GF = (\n",
    "    np.log(\n",
    "        np.sqrt(\n",
    "            np.minimum(X_double, 2 - X_double) ** 2\n",
    "            + np.minimum(Y_double, 2 - Y_double) ** 2\n",
    "        )\n",
    "        + eps\n",
    "    )\n",
    "    / 2\n",
    "    / np.pi\n",
    ")\n",
    "# this term needs attention!\n",
    "GF[0, 0] = (2 * np.log(dx / np.sqrt(np.pi)) - 1) / 4 / np.pi\n",
    "fourier_GF = fft2(GF)\n",
    "\n",
    "mirror_source = np.zeros((grid_size, grid_size))\n",
    "mirror_old_psi = np.zeros((grid_size, grid_size))\n",
    "mirror_psi = np.zeros((grid_size, grid_size))\n",
    "mirror_dpsi_dr = np.zeros((grid_size, grid_size))\n",
    "\n",
    "\n",
    "def poisson_solve_unb(src):\n",
    "    \"\"\"\n",
    "    solves Poisson equation in 2D del^2(psi) = src on domain (0, 1)\n",
    "    for unbounded domain using Greens function convolution and\n",
    "    domain doubling trick (Hockney and Eastwood)\n",
    "    \"\"\"\n",
    "    src_double = np.zeros((2 * grid_size, 2 * grid_size))\n",
    "    src_double[:grid_size, :grid_size] = src\n",
    "    psi = ifft2(fft2(src_double) * fourier_GF)\n",
    "    return psi[:grid_size, :grid_size] * dx * dx\n",
    "\n",
    "def pseudo_poisson_solve_unb(psi, vorticity, R, Z, iter_tol=1e-5):\n",
    "    \"\"\"\n",
    "    solves axisymmetric pseudo Poisson equation in 2D\n",
    "    del^2(psi)  - dpsi_dr / R = -vorticity * R on\n",
    "    domain (0, 1)\n",
    "    for unbounded domain using Greens function\n",
    "    convolution and domain doubling trick\n",
    "    (Hockney and Eastwood)\n",
    "    \"\"\"\n",
    "    source = -vorticity * R\n",
    "    mirror_psi[grid_size // 2 :, :] = psi\n",
    "    mirror_psi[: grid_size // 2, :] = -np.flip(psi, axis=0)\n",
    "    mirror_source[grid_size // 2 :, :] = source\n",
    "    mirror_source[: grid_size // 2, :] = -np.flip(source, axis=0)\n",
    "    mirror_psi[...] = np.real(poisson_solve_unb(mirror_source))\n",
    "    poisson_mirror_psi = mirror_psi.copy()\n",
    "    err = 1\n",
    "    iter_no = 0\n",
    "\n",
    "    while err > iter_tol:\n",
    "    #while iter_no < 10:\n",
    "        iter_no += 1\n",
    "        mirror_old_psi[...] = mirror_psi\n",
    "        mirror_dpsi_dr[1:-1, :] = (mirror_psi[2:, :] - mirror_psi[:-2, :]) / 2 / dx\n",
    "        mirror_dpsi_dr[-1, :] = (\n",
    "            (mirror_psi[-3, :] - 4 * mirror_psi[-2, :] + 3 * mirror_psi[-1, :]) / 2 / dx\n",
    "        )\n",
    "        mirror_dpsi_dr[0, :] = (\n",
    "            (-mirror_psi[2, :] + 4 * mirror_psi[1, :] - 3 * mirror_psi[0, :]) / 2 / dx\n",
    "        )\n",
    "        mirror_dpsi_dr[grid_size // 2, :] = (\n",
    "            (-mirror_psi[grid_size // 2 + 2, :] + 4 * mirror_psi[grid_size // 2 + 1, :] \n",
    "             - 3 * mirror_psi[grid_size // 2, :]) / 2 / dx\n",
    "        )\n",
    "        #mirror_dpsi_dr[grid_size // 2 :, :] /= R\n",
    "        #kill_boundary_vorticity_sine_x(mirror_dpsi_dr[grid_size // 2 :, :], Z, 3)\n",
    "        #mirror_dpsi_dr[: grid_size // 2, :] /= -np.flip(R, axis=0)\n",
    "        mirror_dpsi_dr[: grid_size // 2, :] = -np.flip(\n",
    "            mirror_dpsi_dr[grid_size // 2 :, :], axis=0\n",
    "        )\n",
    "        mirror_psi[...] = np.real(poisson_solve_unb(mirror_source + 1 * mirror_dpsi_dr))\n",
    "        err = la.norm(mirror_psi - mirror_old_psi) / la.norm(mirror_psi)\n",
    "        #err = la.norm(mirror_psi - mirror_old_psi) * dx\n",
    "        print(err)\n",
    "\n",
    "    psi[...] = mirror_psi[grid_size // 2 :, :]\n",
    "    return mirror_psi, mirror_dpsi_dr\n",
    "\n",
    "def pseudo_poisson_solve_iter(psi, vorticity, R, Z, iter_tol=1e-5):\n",
    "    source = -vorticity * R\n",
    "    old_psi = psi.copy()\n",
    "    err = 1\n",
    "    err2 = 1\n",
    "    iter = 0\n",
    "    alpha = 1.0\n",
    "    \n",
    "    while err2 > iter_tol:\n",
    "        iter += 1\n",
    "        old_psi[...] = psi.copy()\n",
    "        psi[1:-1, 1:-1] = ((1.0 - alpha) * psi[1:-1, 1:-1] + \n",
    "                           alpha * 0.25 * (psi[2:,1:-1] + psi[:-2,1:-1] + psi[1:-1,2:] + psi[1:-1,:-2] \n",
    "                                                   - dx ** 2 * source[1:-1, 1:-1]\n",
    "                                          -0.5 * dx * (psi[2:,1:-1] - psi[:-2,1:-1]) / R[1:-1, 1:-1]))\n",
    "        #err2 = la.norm(psi - old_psi) / la.norm(psi)\n",
    "        err2 = np.amax(psi - old_psi) / np.amax(psi)\n",
    "\n",
    "        \n",
    "    print(iter)\n",
    "    return psi\n",
    "\n",
    "\n",
    "from numba import njit, prange\n",
    "@njit(parallel=True)\n",
    "def pseudo_poisson_solve_iter_numba(psi, vorticity, R, Z, dx, iter_tol=1e-12):\n",
    "    source = -vorticity * R\n",
    "    old_psi = psi.copy()\n",
    "    err = 1\n",
    "    err2 = 1\n",
    "    iter = 0\n",
    "    alpha = 1.99\n",
    "    r_grid_size = vorticity.shape[0]\n",
    "    z_grid_size = vorticity.shape[1]\n",
    "    \n",
    "    while err2 > iter_tol:\n",
    "\n",
    "        iter += 1\n",
    "        old_psi[...] = psi.copy()\n",
    "        \n",
    "        for i in prange(1, z_grid_size - 1):\n",
    "            for j in prange(1, r_grid_size - 1):\n",
    "                psi[j, i] = ((1.0 - alpha) * psi[j, i] + \n",
    "                             alpha * 0.25 * (psi[j+1,i] + psi[j-1,i] + psi[j,i+1] + psi[j,i-1] \n",
    "                                             - dx ** 2 * source[j,i] \n",
    "                                             -0.5 * dx * (psi[j+1,i] - psi[j-1,i]) / R[j, i]))\n",
    "        psi[0, :] = 0.0\n",
    "        psi[-1, :] = psi[-2, :]\n",
    "        psi[:, 0] = psi[:, 1]\n",
    "        psi[:, -1] = psi[:, -2]\n",
    "        err2 = np.amax(np.fabs(psi - old_psi)) * dx\n",
    "#         err2 = np.amax(np.fabs(psi - old_psi)) / np.amax(np.fabs(psi))\n",
    "        \n",
    "    print(iter)\n",
    "    return psi"
   ]
  },
  {
   "cell_type": "code",
   "execution_count": 69,
   "metadata": {},
   "outputs": [],
   "source": [
    "# z = np.linspace(0 + dx / 2, 1 - dx / 2, grid_size_z)\n",
    "# r = np.linspace(0 + dx / 2, domain_AR - dx / 2, grid_size_r)\n",
    "# Z, R = np.meshgrid(z, r)\n",
    "# vort = np.sin(2 * np.pi * R) ** 2 * np.sin(np.pi * Z)\n",
    "# vort = np.exp(-((R - 0.3) ** 2 + (Z - 0.5) ** 2) / 0.01)\n",
    "# psi = 0 * R\n",
    "# mirror_psi, mirror_dpsi_dr = pseudo_poisson_solve_unb(psi, vort, R, Z)\n",
    "# import matplotlib.pyplot as plt\n",
    "# plt.contourf(Z, R, mirror_psi[grid_size //2:, :])\n",
    "# plt.colorbar()\n",
    "# plt.figure()\n",
    "# plt.plot(z, mirror_psi[grid_size // 2, :])"
   ]
  },
  {
   "cell_type": "code",
   "execution_count": 73,
   "metadata": {},
   "outputs": [
    {
     "name": "stdout",
     "output_type": "stream",
     "text": [
      "1709\n",
      "1.3897919654846191\n"
     ]
    },
    {
     "data": {
      "text/plain": [
       "<matplotlib.colorbar.Colorbar at 0x1358c67f0>"
      ]
     },
     "execution_count": 73,
     "metadata": {},
     "output_type": "execute_result"
    },
    {
     "data": {
      "image/png": "[encoded data removed]",
      "text/plain": [
       "<Figure size 432x288 with 2 Axes>"
      ]
     },
     "metadata": {
      "needs_background": "light"
     },
     "output_type": "display_data"
    }
   ],
   "source": [
    "z = np.linspace(0 + dx / 2, 1 - dx / 2, grid_size_z)\n",
    "r = np.linspace(0 + dx / 2, domain_AR - dx / 2, grid_size_r)\n",
    "Z, R = np.meshgrid(z, r)\n",
    "#vort = np.sin(2 * np.pi * R) ** 2 * np.sin(np.pi * Z)\n",
    "vort = np.exp(-((R - 0.3) ** 2 + (Z - 0.5) ** 2) / 0.01)\n",
    "psi_numba = 0 * R\n",
    "\n",
    "import time\n",
    "s = time.time()\n",
    "#psi[...] = pseudo_poisson_solve_iter(psi, vort, R, Z)\n",
    "psi_numba[...] = pseudo_poisson_solve_iter_numba(psi_numba, vort, R, Z, dx)\n",
    "e = time.time()\n",
    "print(e - s)\n",
    "import matplotlib.pyplot as plt\n",
    "plt.contourf(Z, R, psi_numba, levels=25)\n",
    "plt.contourf(Z, R, (psi_numba - psi) / la.norm(psi), levels=25)\n",
    "plt.colorbar()"
   ]
  },
  {
   "cell_type": "code",
   "execution_count": 71,
   "metadata": {},
   "outputs": [
    {
     "data": {
      "text/plain": [
       "[<matplotlib.lines.Line2D at 0x136aabf70>]"
      ]
     },
     "execution_count": 71,
     "metadata": {},
     "output_type": "execute_result"
    },
    {
     "data": {
      "image/png": "[encoded data removed]",
      "text/plain": [
       "<Figure size 432x288 with 1 Axes>"
      ]
     },
     "metadata": {
      "needs_background": "light"
     },
     "output_type": "display_data"
    }
   ],
   "source": [
    "plt.plot(psi_numba[10, :])"
   ]
  },
  {
   "cell_type": "code",
   "execution_count": null,
   "metadata": {},
   "outputs": [],
   "source": [
    "u_r = R / (R ** 2 + Z **2) **1.5\n",
    "u_z = Z / (R ** 2 + Z **2) **1.5\n",
    "plt.streamplot(Z, R, u_z, u_r)"
   ]
  },
  {
   "cell_type": "code",
   "execution_count": null,
   "metadata": {},
   "outputs": [],
   "source": [
    "psi_ana = - Z * (R ** 2 + Z ** 2) ** -0.5\n",
    "plt.contourf(Z, R, psi_ana)"
   ]
  },
  {
   "cell_type": "code",
   "execution_count": null,
   "metadata": {},
   "outputs": [],
   "source": [
    "plt.plot(Z[0, :], u_z[0, :])"
   ]
  },
  {
   "cell_type": "code",
   "execution_count": null,
   "metadata": {},
   "outputs": [],
   "source": []
  }
 ],
 "metadata": {
  "kernelspec": {
   "display_name": "Python 3",
   "language": "python",
   "name": "python3"
  },
  "language_info": {
   "codemirror_mode": {
    "name": "ipython",
    "version": 3
   },
   "file_extension": ".py",
   "mimetype": "text/x-python",
   "name": "python",
   "nbconvert_exporter": "python",
   "pygments_lexer": "ipython3",
   "version": "3.9.1"
  }
 },
 "nbformat": 4,
 "nbformat_minor": 4
}
