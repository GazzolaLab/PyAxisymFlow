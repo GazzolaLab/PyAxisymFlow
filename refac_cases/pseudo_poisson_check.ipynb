{
 "cells": [
  {
   "cell_type": "code",
   "execution_count": 1,
   "metadata": {},
   "outputs": [],
   "source": [
    "import scipy.sparse as spp\n",
    "import numpy as np"
   ]
  },
  {
   "cell_type": "code",
   "execution_count": 10,
   "metadata": {},
   "outputs": [
    {
     "name": "stderr",
     "output_type": "stream",
     "text": [
      "/usr/local/anaconda3/lib/python3.8/site-packages/scipy/sparse/_index.py:82: SparseEfficiencyWarning: Changing the sparsity structure of a csc_matrix is expensive. lil_matrix is more efficient.\n",
      "  self._set_intXint(row, col, x.flat[0])\n"
     ]
    }
   ],
   "source": [
    "grid_size_z = 1024\n",
    "domain_AR = 0.5\n",
    "dx = 1.0 / grid_size_z\n",
    "grid_size_r = int(domain_AR * grid_size_z)\n",
    "z = np.linspace(0.5 * dx, 1 - 0.5 * dx, grid_size_z)\n",
    "r = np.linspace(0.5 * dx, domain_AR - 0.5 * dx, grid_size_r)\n",
    "Z, R = np.meshgrid(z, r)\n",
    "R_diag = spp.diags((R ** -1).reshape(-1, ), format='csc')\n",
    "A_zz = spp.diags([1, -2, 1], [-1, 0, 1], \n",
    "                shape=(grid_size_z, grid_size_z), format='csc') / (dx ** 2)\n",
    "A_rr = spp.diags([1, -2, 1], [-1, 0, 1], \n",
    "                shape=(grid_size_r, grid_size_r), format='csc') / (dx ** 2)\n",
    "\n",
    "A_zz[0, 1] *= 2.0\n",
    "A_zz[-1, -2] *= 2.0\n",
    "A_rr[-1, -2] *= 2.0\n",
    "\n",
    "# A_zz[0, 0] = 2.0 / (dx ** 2)\n",
    "# A_zz[0, 1] = -5.0 / (dx ** 2)\n",
    "# A_zz[0, 2] = 4.0 / (dx ** 2)\n",
    "# A_zz[0, 3] = -1.0 / (dx ** 2)\n",
    "# A_zz[-1, 0] = 2.0 / (dx ** 2)\n",
    "# A_zz[-1, 1] = -5.0 / (dx ** 2)\n",
    "# A_zz[-1, 2] = 4.0 / (dx ** 2)\n",
    "# A_zz[1, 3] = -1.0 / (dx ** 2)\n",
    "# A_rr[-1, -1] = 1.0 / (dx ** 2)\n",
    "# A_rr[-1, -2] = -2.0 / (dx ** 2)\n",
    "# A_rr[-1, -3] = 1.0 / (dx ** 2)\n",
    "\n",
    "A_r = spp.diags([-1, 1], [-1, 1], \n",
    "                shape=(grid_size_r, grid_size_r), format='csc') / (2 * dx)\n",
    "A_r[-1, -2] = 0.0\n",
    "\n",
    "# A_r[-1, -1] = 1.0 / dx\n",
    "# A_r[-1, -2] = -1.0 / dx\n",
    "\n",
    "Idz = spp.identity(grid_size_z)\n",
    "Idr = spp.identity(grid_size_r)\n",
    "Id1 = spp.diags(np.repeat(1.0, grid_size_r), format='csc')\n",
    "Id1[0, 0] = 0.0\n",
    "mask_Id = spp.kron(Id1,Idz)\n",
    "Id2 = spp.diags(np.repeat(0.0, grid_size_r), format='csc')\n",
    "Id2[0, 0] = 1.0\n",
    "unmask_Id = spp.kron(Id2, Idz)\n",
    "Id3 = spp.diags(np.repeat(1.0, grid_size_r), format=\"csc\")\n",
    "Id3[-1, -1] = 0.0\n",
    "\n",
    "# A_r[0, 1] = 0.0\n",
    "# A_rr[0, 1] *= 2.0\n",
    "\n",
    "# Idz = spp.identity(grid_size_z)\n",
    "# Idr = spp.identity(grid_size_r)\n",
    "# Id1 = spp.diags(np.repeat(1.0, grid_size_r), format='csc')\n",
    "# Id1[-1, -1] = 0.0\n",
    "# mask_Id = spp.kron(Id1,Idz)\n",
    "# Id2 = spp.diags(np.repeat(0.0, grid_size_r), format='csc')\n",
    "# Id2[-1, -1] = 1.0\n",
    "# unmask_Id = spp.kron(Id2, Idz)\n",
    "# Id3 = spp.diags(np.repeat(1.0, grid_size_r), format=\"csc\")\n",
    "# Id3[0, -0] = 0.0"
   ]
  },
  {
   "cell_type": "code",
   "execution_count": 11,
   "metadata": {},
   "outputs": [
    {
     "name": "stdout",
     "output_type": "stream",
     "text": [
      "[[ 1048576.        0.        0. ...        0.        0.        0.]\n",
      " [       0.  1048576.        0. ...        0.        0.        0.]\n",
      " [       0.        0.  1048576. ...        0.        0.        0.]\n",
      " ...\n",
      " [       0.        0.        0. ... -2097152.        0.        0.]\n",
      " [       0.        0.        0. ...        0. -2097152.        0.]\n",
      " [       0.        0.        0. ...        0.        0. -2097152.]]\n"
     ]
    }
   ],
   "source": [
    "A_final = mask_Id * (spp.kron(A_rr, Idz) + spp.kron(Id3, A_zz) - R_diag * spp.kron(A_r, Idz)) + unmask_Id / (dx ** 2)\n",
    "#A_final = mask_Id * (spp.kron(A_rr, Idz) + spp.kron(Id3, A_zz) + R_diag * spp.kron(A_r, Idz)) + unmask_Id / (dx ** 2)\n",
    "print(A_final.toarray())\n",
    "import numpy.linalg as la\n",
    "# print(la.cond(A_final.toarray()))"
   ]
  },
  {
   "cell_type": "code",
   "execution_count": 12,
   "metadata": {},
   "outputs": [
    {
     "data": {
      "image/png": "[encoded data removed]",
      "text/plain": [
       "<Figure size 432x288 with 2 Axes>"
      ]
     },
     "metadata": {
      "needs_background": "light"
     },
     "output_type": "display_data"
    }
   ],
   "source": [
    "import scipy.sparse.linalg as sppla\n",
    "import matplotlib.pyplot as plt\n",
    "#vort = np.sin(np.pi * R)\n",
    "vort = np.exp(-((R - 0.1) ** 2 + (Z - 0.5) ** 2) / 0.01)\n",
    "plt.contourf(Z, R, -R * vort)\n",
    "plt.colorbar()\n",
    "b = (-R * vort).reshape(-1, )"
   ]
  },
  {
   "cell_type": "code",
   "execution_count": 13,
   "metadata": {},
   "outputs": [
    {
     "name": "stdout",
     "output_type": "stream",
     "text": [
      "0.6620168685913086\n"
     ]
    },
    {
     "data": {
      "text/plain": [
       "<matplotlib.colorbar.Colorbar at 0x7f80146d5190>"
      ]
     },
     "execution_count": 13,
     "metadata": {},
     "output_type": "execute_result"
    },
    {
     "data": {
      "image/png": "[encoded data removed]",
      "text/plain": [
       "<Figure size 432x288 with 2 Axes>"
      ]
     },
     "metadata": {
      "needs_background": "light"
     },
     "output_type": "display_data"
    }
   ],
   "source": [
    "#A_inv = sppla.inv(A_final)\n",
    "#psi = A_inv * b\n",
    "# M2 = sppla.spilu(A_final)\n",
    "# M = sppla.LinearOperator((grid_size_z * grid_size_r, grid_size_z * grid_size_r), M2.solve)\n",
    "\n",
    "LU = sppla.splu(A_final)\n",
    "\n",
    "psi = 0 * b\n",
    "#psi[...], code = sppla.gmres(A_final, b, x0=psi, M=M)\n",
    "import time\n",
    "s = time.time()\n",
    "psi[...] = LU.solve(b)\n",
    "e = time.time()\n",
    "print(e - s)\n",
    "# A_inv = sppla.inv(A_final)\n",
    "# psi = A_inv * b\n",
    "#plt.contour(Z, R, psi.reshape(grid_size_r, -1), levels=50)\n",
    "plt.contourf(Z, R, psi.reshape(grid_size_r, -1), levels=25)\n",
    "plt.colorbar()\n",
    "#print(code)"
   ]
  },
  {
   "cell_type": "code",
   "execution_count": 15,
   "metadata": {},
   "outputs": [
    {
     "name": "stdout",
     "output_type": "stream",
     "text": [
      "167 ms ± 47.6 ms per loop (mean ± std. dev. of 7 runs, 1 loop each)\n"
     ]
    }
   ],
   "source": [
    "%timeit LU.solve(b)"
   ]
  },
  {
   "cell_type": "code",
   "execution_count": null,
   "metadata": {},
   "outputs": [],
   "source": []
  }
 ],
 "metadata": {
  "kernelspec": {
   "display_name": "Python 3",
   "language": "python",
   "name": "python3"
  },
  "language_info": {
   "codemirror_mode": {
    "name": "ipython",
    "version": 3
   },
   "file_extension": ".py",
   "mimetype": "text/x-python",
   "name": "python",
   "nbconvert_exporter": "python",
   "pygments_lexer": "ipython3",
   "version": "3.8.5"
  }
 },
 "nbformat": 4,
 "nbformat_minor": 4
}
